{
 "cells": [
  {
   "cell_type": "markdown",
   "metadata": {},
   "source": [
    "# Exercício com o PyAccel\n",
    "Este é um exercício para treino do uso do PyAccel no projeto de uma linha de transporte.\n",
    "\n",
    "## Definção:\n",
    "\n",
    "A linha de transporte começa assim:\n",
    "1) Espaço livre de 10 cm\n",
    "2) Lente fina quadrupolar de foco f1\n",
    "4) Lente fina quadrupolar de foco f2\n",
    "3) Espaço livre de 20 cm\n",
    "4) Eletroímã curvador de raio 0.5 m e ângulo de 30 graus\n",
    "5) Espaço livre de 10 cm\n",
    "\n",
    "## Tarefa: \n",
    "\n",
    "Criar uma linha de trasporte de 3 metros que produza um menor feixe possível!"
   ]
  },
  {
   "cell_type": "code",
   "execution_count": null,
   "metadata": {},
   "outputs": [],
   "source": [
    "## Preparando o ambiente\n",
    "if 'google.colab' in str(get_ipython()):\n",
    "  !git clone https://github.com/tiagofiorini/pyaccel.git\n",
    "  import pyaccel.pyaccel as pyaccel\n",
    "else:\n",
    "  import pyaccel as pyaccel\n",
    "\n",
    "import numpy as np\n",
    "import matplotlib.pyplot as plt\n",
    "import ipywidgets as widgets\n",
    "\n",
    "import importlib\n",
    "importlib.reload(pyaccel)\n",
    "\n",
    "%matplotlib inline"
   ]
  },
  {
   "cell_type": "markdown",
   "metadata": {},
   "source": [
    "# Primeiro passo: Otimizar as lentes antes do dipolo"
   ]
  },
  {
   "cell_type": "code",
   "execution_count": null,
   "metadata": {},
   "outputs": [],
   "source": [
    "@widgets.interact(theta=(0.0, 90.0, 1.0), f1=(0.1,10.0,0.005), f2=(0.1,10.0,0.005))\n",
    "def fn0(theta=30.0,f1=10.0, f2=10.0):    \n",
    "    TL = pyaccel.InitilazeTransportLine( sx = 2.0, sxp = 0.01, sy = 2.0, syp = 0.01, sz = 1.0, sdppp0 = 5e-3 , \n",
    "                                    m0 = pyaccel.Proton_mass_kg, e0 = pyaccel.Electron_charge, E0 = 2.0, num = 10000,\n",
    "                                    XYdistribution='uniform')\n",
    "    TL.AddDriftSpace (L=0.10)\n",
    "    TL.AddThinLens(f=f1, setXdivergence=True, setYdivergence=False)\n",
    "    TL.AddDriftSpace (L=0.10)    \n",
    "    TL.AddThinLens(f=f2, setXdivergence=False, setYdivergence=True)\n",
    "    TL.AddDriftSpace (L=0.20)\n",
    "    TL.AddBendingMagnetX(BendingRadius = 0.5, BendingAngle = np.radians(30))\n",
    "    TL.AddDriftSpace (L=0.10)\n",
    "    TL.Propagate(N=7)\n",
    "    TL.PlotBeamSpot(Rscale=1.0,MomentumColorScale=True)\n",
    "    TL.PlotPhaseSpace(xlim=2.0,xplim=3.0,ylim=2.0,yplim=3.0)\n",
    "    plt.figure()\n",
    "    plt.subplot(121)\n",
    "    plt.hist(TL.V[0,:])\n",
    "    plt.subplot(122)\n",
    "    plt.hist(TL.V[2,:])\n",
    "    plt.show()    \n",
    "    del TL"
   ]
  },
  {
   "cell_type": "markdown",
   "metadata": {},
   "source": [
    "# Segundo passo: Otimizar uma linha de transporte para 3.0 m"
   ]
  },
  {
   "cell_type": "code",
   "execution_count": null,
   "metadata": {},
   "outputs": [],
   "source": [
    "@widgets.interact(f1=(0.1,10.0,0.005), f2=(0.1,10.0,0.005), fA=(0.1, 10.0, 0.005), fB=(0.1, 10.0, 0.005), fC=(0.1, 10.0, 0.005))\n",
    "def fn1(f1=10.0, f2=10.0, fA = 10.0, fB = 10.0, fC = 10.0, plot = True):\n",
    "    TL = pyaccel.InitilazeTransportLine( sx = 2.0, sxp = 0.01, sy = 2.0, syp = 0.01, sz = 1.0, sdppp0 = 5e-3 , \n",
    "                                    m0 = pyaccel.Proton_mass_kg, e0 = pyaccel.Electron_charge, E0 = 2.0, num = 10000,\n",
    "                                    XYdistribution='uniform')\n",
    "    \n",
    "    TL.AddDriftSpace (L=0.10)\n",
    "    TL.AddThinLens(f=f1, setXdivergence=True, setYdivergence=False)\n",
    "    TL.AddDriftSpace (L=0.10)    \n",
    "    TL.AddThinLens(f=f2, setXdivergence=False, setYdivergence=True)\n",
    "    TL.AddDriftSpace (L=0.20)\n",
    "    TL.AddBendingMagnetX(BendingRadius = 0.5, BendingAngle = np.radians(30))\n",
    "    TL.AddDriftSpace (L=0.10)\n",
    "\n",
    "    ...\n",
    "    \n",
    "    TL.Propagate(N= ...)\n",
    "    if plot == True:\n",
    "        TL.PlotBeamSpot(Rscale=2.0,MomentumColorScale=True)\n",
    "        TL.PlotPhaseSpace(xlim=2.0,xplim=3.0,ylim=2.0,yplim=3.0)\n",
    "        plt.figure()\n",
    "        plt.subplot(121)\n",
    "        plt.hist(TL.V[0,:])\n",
    "        plt.xlabel('X [mm]')\n",
    "        plt.subplot(122)\n",
    "        plt.hist(TL.V[2,:])\n",
    "        plt.xlabel('Y [mm]')\n",
    "        plt.show()\n",
    "    r0 = np.sqrt( TL.V[0,:].std()**2 + TL.V[2,:].std()**2 )\n",
    "    del TL\n",
    "    return r0"
   ]
  },
  {
   "cell_type": "markdown",
   "metadata": {},
   "source": [
    "# Desafio: Use uma função externa para uma otimização \"fina\" da configuração das lentes"
   ]
  },
  {
   "cell_type": "code",
   "execution_count": null,
   "metadata": {},
   "outputs": [],
   "source": []
  }
 ],
 "metadata": {
  "kernelspec": {
   "display_name": "Python 3 (ipykernel)",
   "language": "python",
   "name": "python3"
  },
  "language_info": {
   "codemirror_mode": {
    "name": "ipython",
    "version": 3
   },
   "file_extension": ".py",
   "mimetype": "text/x-python",
   "name": "python",
   "nbconvert_exporter": "python",
   "pygments_lexer": "ipython3",
   "version": "3.10.6"
  }
 },
 "nbformat": 4,
 "nbformat_minor": 2
}
