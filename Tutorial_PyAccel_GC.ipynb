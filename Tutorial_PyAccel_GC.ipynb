{
 "cells": [
  {
   "cell_type": "markdown",
   "metadata": {},
   "source": [
    "# Introdução ao PyAccel\n",
    "Este é um tutorial sobre como utilizar o PyAccel para simular uma linha de transporte de feixe de partículas carregadas.\n",
    "\n",
    "Inicialmente, deve se importar a biblioteca e se criar o ambiente de cálculo. Os comandos são os seguintes:"
   ]
  },
  {
   "cell_type": "code",
   "execution_count": null,
   "metadata": {},
   "outputs": [],
   "source": [
    "## Preparando o ambiente\n",
    "#!git clone https://github.com/tiagofiorini/pyaccel.git\n",
    "import numpy as np\n",
    "import matplotlib.pyplot as plt\n",
    "import pyaccel as pyaccel\n",
    "import ipywidgets as widgets\n",
    "#import importlib\n",
    "#importlib.reload(pyaccel)\n",
    "%matplotlib inline"
   ]
  },
  {
   "cell_type": "markdown",
   "metadata": {},
   "source": [
    "Note a versão do PyAccel!\n",
    "\n",
    "## Declaração do feixe e comandos básicos\n",
    "\n",
    "A seguir, estão os comandos básicos para a declaração de uma linha de transporte, o comando de listagem de elementos, e alguns comandos para visualização do feixe e de seus espaços de fase. Os comentários podem guiar o entendimento do código.\n",
    "\n",
    "Note a declaração de um feixe de 1.0 mm de diâmetro e divergência nula! Trata-se de um feixe de prótons de 1.0 MeV de energia.\n"
   ]
  },
  {
   "cell_type": "code",
   "execution_count": null,
   "metadata": {},
   "outputs": [],
   "source": [
    "# Inicializando uma linha de transporte e as características iniciais do feixe\n",
    "TL = pyaccel.InitilazeTransportLine( sx = 1.0, sxp = 0.0, sy = 1.0, syp = 0.0, sz = 1.0, sdppp0 = 1e-3 , \n",
    "                                    m0 = pyaccel.Proton_mass_kg, e0 = pyaccel.Electron_charge, E0 = 1.0, num = 10000,\n",
    "                                    XYdistribution='uniform')\n",
    "# Adicionando um caminho livre\n",
    "TL.AddDriftSpace (L=1.0)\n",
    "# Adicionando uma lente fina\n",
    "TL.AddThinLens(f=0.2, setXdivergence=False, setYdivergence=False)\n",
    "TL.ListElements()\n",
    "# Propagando o feixe pelos elementos (até N=2)\n",
    "TL.Propagate(N=2)\n",
    "# Mostrar o perfil do feixe\n",
    "TL.PlotBeamSpot(Rscale=3.0, realisticPlot=True)\n",
    "# Mostrar espaço de fase\n",
    "TL.PlotPhaseSpace()\n",
    "# Deletando a linha de transporte\n",
    "del TL"
   ]
  },
  {
   "cell_type": "markdown",
   "metadata": {},
   "source": [
    "## Evolução natural dos espaços de fase\n",
    "\n",
    "Este exercício serve para que observemos a tendência natural da evolução dos espaços de fase de um feixe em propagação por um espaço livre de campo.\n",
    "\n",
    "Note que o comprimento do espaço é inicialmente declarado como nulo, e que ao se aumentar o seu comprimento para até 1.0 m não só o diâmetro do feixe aumenta, como também o espaço de fase apresenta um movimento tendencioso no sentido horário.\n",
    "\n",
    "Neste exercício o feixe tem 1.0 mrad de divergência em cada direção transversal.\n"
   ]
  },
  {
   "cell_type": "code",
   "execution_count": null,
   "metadata": {},
   "outputs": [],
   "source": [
    "#@widgets.interact(L=(0, 1.0, 0.02))\n",
    "def fn1(L=0.0):    \n",
    "    TL = pyaccel.InitilazeTransportLine( sx = 1.0, sxp = 1.0, sy = 1.0, syp = 1.0, sz = 1.0, sdppp0 = 1e-3 , \n",
    "                                    m0 = pyaccel.Proton_mass_kg, e0 = pyaccel.Electron_charge, E0 = 1.0, num = 100000,\n",
    "                                    XYdistribution='uniform')\n",
    "    TL.AddDriftSpace (L=L)\n",
    "    TL.Propagate(N=1)\n",
    "    TL.PlotBeamSpot(Rscale=3.0, realisticPlot=True)\n",
    "    TL.PlotPhaseSpace(xlim=6.0,xplim=6.0,ylim=6.0,yplim=6.0)\n",
    "    del TL\n",
    "    \n",
    "fn1(L=0.0)"
   ]
  },
  {
   "cell_type": "markdown",
   "metadata": {},
   "source": [
    "## Influência de uma lente fina na propagação do espaço de fase\n",
    "\n",
    "Esse exercício serve para verificarmos a influência de uma lente fina na evolução do espaço de fase.\n",
    "\n",
    "A lente declarada tem distância focal fixa de 0,5 m. Note que ela é declarada como sendo focalizadora tanto na direção X quanto na Y.\n",
    "\n",
    "**A)** O controle de L permite observarmos o espaço de fase do feixe em distâncias da fonte de 0 a 1.1 m.\n",
    "\n",
    "Observe que logo após a lente, os espaços de fase mostra uma configuração convergente.\n",
    "\n",
    "**B)** Em que distância o feixe apresenta uma cintura?\n",
    "\n",
    "Após a cintura, os espaços de fase do feixe apresenta uma configuração divergente.\n",
    "\n",
    "**C)** Altere a declaração da lente para que seja divergente em um dos planos e observe o que acontece com o espaço de fase.\n",
    "\n",
    "### Obs.: Neste exercício a função PlotBeamSpot foi utilizada com a opção MomentumColorScale ativada. Neste caso, observamos as partículas individualmente no gráfico, em que a cor indica um valor diferente de disperção de momento. Note que a distribuição de cores é aleatória na distribuição de partículas não importando a distância da lente. Isso indica um não acoplamento de nenhuma coordenada transversal com o espaço de fase de momento. \n"
   ]
  },
  {
   "cell_type": "code",
   "execution_count": null,
   "metadata": {},
   "outputs": [],
   "source": [
    "#@widgets.interact(L=(0.0, 2.0, 0.02))\n",
    "def fn2(L=0.0):    \n",
    "    TL = pyaccel.InitilazeTransportLine( sx = 1.0, sxp = 1.0, sy = 1.0, syp = 1.0, sz = 1.0, sdppp0 = 1e-3 , \n",
    "                                    m0 = pyaccel.Proton_mass_kg, e0 = pyaccel.Electron_charge, E0 = 1.0, num = 1000,\n",
    "                                    XYdistribution='uniform')\n",
    "    TL.AddDriftSpace (L=2.0)\n",
    "    TL.AddThinLens(f=0.5, setXdivergence=False, setYdivergence=False)\n",
    "    TL.AddDriftSpace (L=L)    \n",
    "    TL.Propagate(N=3)\n",
    "    TL.PlotBeamSpot(Rscale=20.0,MomentumColorScale=True)\n",
    "    TL.PlotPhaseSpace(xlim=20.0,xplim=35.0,ylim=20.0,yplim=35.0)\n",
    "    del TL\n",
    "    \n",
    "fn2(L=0.0)"
   ]
  },
  {
   "cell_type": "markdown",
   "metadata": {},
   "source": [
    "## Associação de lentes (dubletos de lentes quadrupolares)\n",
    "\n",
    "Uma lente magnética quadrupolar tem a característica de ser focalizadora numa direção transversal e desvocalizadora na direção ortogonal. Dada esta característica, costuma-se associar lentes de forma a ter um conjunto focalizador. Um dubleto de quadrupolos é uma associação de duas lentes quadrupolares de forma a ter um resultado focalizador.\n",
    "\n",
    "**A)** Encontre a condição de foco (mínimo diầmetro) do feixe no fim da linha de transporte a seguir, alterando os valores de f1 e f2.\n",
    "\n",
    "**B)** O que acontece com os espaços de fase transversais nesta condição?\n",
    "\n"
   ]
  },
  {
   "cell_type": "code",
   "execution_count": null,
   "metadata": {},
   "outputs": [],
   "source": [
    "#@widgets.interact(f1=(0.1, 5.0, 0.02), f2=(0.1, 5.0, 0.02))\n",
    "def fn3(f1=5.0, f2=5.0):    \n",
    "    TL = pyaccel.InitilazeTransportLine( sx = 1.0, sxp = 1.0, sy = 1.0, syp = 1.0, sz = 1.0, sdppp0 = 1e-3 , \n",
    "                                    m0 = pyaccel.Proton_mass_kg, e0 = pyaccel.Electron_charge, E0 = 1.0, num = 1000,\n",
    "                                    XYdistribution='uniform')\n",
    "    TL.AddDriftSpace (L=2.0)\n",
    "    TL.AddThinLens(f=f1, setXdivergence=False, setYdivergence=True)\n",
    "    TL.AddDriftSpace (L=0.2)\n",
    "    TL.AddThinLens(f=f2, setXdivergence=True, setYdivergence=False)\n",
    "    TL.AddDriftSpace (L=0.5)\n",
    "    TL.Propagate(N=5)\n",
    "    TL.PlotBeamSpot(Rscale=20.0,MomentumColorScale=True)\n",
    "    TL.PlotPhaseSpace(xlim=20.0,xplim=35.0,ylim=20.0,yplim=35.0)\n",
    "    del TL\n",
    "    \n",
    "fn3(f1=5.0, f2=5.0)"
   ]
  },
  {
   "cell_type": "markdown",
   "metadata": {},
   "source": [
    "## Associação de lentes (tripleto de lentes quadrupolares)\n",
    "\n",
    "Uma outra associação possível é a de três lentes quadrupolares em um tripleto.\n",
    "\n",
    "**A)** Experimente encontrar valores de f1, f2 e f3 que focalizam o feixe no final da linha de transporte declarada a seguir.\n",
    "\n",
    "**B)** O que acontece se ajustar as distancias focais em f1 = f3 = 0.4 m e f2 = 0.24 m? Como ficam os espaços de fase transversais?\n"
   ]
  },
  {
   "cell_type": "code",
   "execution_count": null,
   "metadata": {},
   "outputs": [],
   "source": [
    "#@widgets.interact(f1=(0.1, 10.0, 0.02), f2=(0.1, 10.0, 0.02), f3=(0.1, 10.0, 0.02))\n",
    "def fn4(f1=10.0, f2=10.0, f3 = 10.0):    \n",
    "    TL = pyaccel.InitilazeTransportLine( sx = 1.0, sxp = 1.0, sy = 1.0, syp = 1.0, sz = 1.0, sdppp0 = 1e-3 , \n",
    "                                    m0 = pyaccel.Proton_mass_kg, e0 = pyaccel.Electron_charge, E0 = 1.0, num = 1000,\n",
    "                                    XYdistribution='uniform')\n",
    "    TL.AddDriftSpace (L=2.0)\n",
    "    TL.AddThinLens(f=f1, setXdivergence=False, setYdivergence=True)\n",
    "    TL.AddDriftSpace (L=0.2)\n",
    "    TL.AddThinLens(f=f2, setXdivergence=True, setYdivergence=False)\n",
    "    TL.AddDriftSpace (L=0.2)\n",
    "    TL.AddThinLens(f=f3, setXdivergence=False, setYdivergence=True)\n",
    "    TL.AddDriftSpace (L=0.5)\n",
    "    TL.Propagate(N=7)\n",
    "    TL.PlotBeamSpot(Rscale=20.0,MomentumColorScale=True)\n",
    "    TL.PlotPhaseSpace(xlim=20.0,xplim=35.0,ylim=20.0,yplim=35.0)\n",
    "    del TL\n",
    "    \n",
    "fn4(f1=10.0, f2=10.0, f3=10.0)"
   ]
  },
  {
   "cell_type": "markdown",
   "metadata": {},
   "source": [
    "## Medida de emitância\n",
    "\n",
    "A Emitância é um parâmetro da qualidade óptica do feixe de partículas que é muito importante. Para medir o seu valor, precisamos determinar a área da elipse de feixe nos espaços de fase. Para isso, costuma-se medir o tamanho da cintura do feixe em um ponto do acelerador, e depois o tamanho do feixe ao se propagar por algum espaço livre de campo.\n",
    "\n",
    "**A)** Ajuste o foco da lente fina para que a cintura do feixe apareça na primeira imagem. Qual o diâmetro do feixe neste ponto?\n",
    "\n",
    "**B)** Qual o diâmetro do feixe no ponto 1 m a seguir? Qual a divergência desse feixe?\n",
    "\n",
    "**C)** Qual a emitância do feixe?"
   ]
  },
  {
   "cell_type": "code",
   "execution_count": null,
   "metadata": {},
   "outputs": [],
   "source": [
    "#@widgets.interact(f=(0.1, 20.0, 0.02))\n",
    "def fn5(f=20.0): \n",
    "    TL = pyaccel.InitilazeTransportLine( sx = 1.0, sxp = 1.0, sy = 1.0, syp = 1.0, sz = 1.0, sdppp0 = 1e-3 , \n",
    "                                        m0 = pyaccel.Proton_mass_kg, e0 = pyaccel.Electron_charge, E0 = 1.0, num = 10000,\n",
    "                                        XYdistribution='uniform')\n",
    "    TL.AddDriftSpace (L=0.5)\n",
    "    TL.AddThinLens(f=f, setXdivergence=False, setYdivergence=False)\n",
    "    TL.AddDriftSpace (L=1.0)\n",
    "    TL.Propagate(N=3)\n",
    "    TL.PlotBeamSpot(Rscale=5.0, realisticPlot=True)\n",
    "    TL.AddDriftSpace (L=1.0)\n",
    "    TL.Propagate(N=4)\n",
    "    TL.PlotBeamSpot(Rscale=5.0, realisticPlot=True)\n",
    "    del TL\n",
    "    \n",
    "fn5(f=20.0)"
   ]
  },
  {
   "cell_type": "markdown",
   "metadata": {},
   "source": [
    "## Influência de um magneto curvador (dipolo) na ótica do feixe\n",
    "\n",
    "Um magneto curvador tem influência importante na dinâmica dos espaços de fase. Especialmente porque a matriz acopla coordenadas transversais com as longitudinais.\n",
    "\n",
    "Podemos tirar vantagem disso para fazer uma melhor sintonia da energia do feixe. \n",
    "\n",
    "**A)** Verifique o que acontece se você aumentar o poder de focalização da lente localizada a 30 cm antes do magneto curvador. \n",
    "\n",
    "**B)** O que acontece se a distância focal ficar perto de 3.0 m?\n",
    "\n",
    "**C)** E se o ângulo de curvatura do magneto for the 30 graus? Qual a distância focal deve ser usada para se obter o mesmo efeito?\n"
   ]
  },
  {
   "cell_type": "code",
   "execution_count": null,
   "metadata": {},
   "outputs": [],
   "source": [
    "#@widgets.interact(theta=(0.0, 90.0, 1.0),f=(0.1,10.0,0.005))\n",
    "def fn6(theta=45.0,f=10.00):    \n",
    "    TL = pyaccel.InitilazeTransportLine( sx = 2.0, sxp = 0.01, sy = 2.0, syp = 0.01, sz = 1.0, sdppp0 = 5e-2 , \n",
    "                                    m0 = pyaccel.Proton_mass_kg, e0 = pyaccel.Electron_charge, E0 = 1.0, num = 10000,\n",
    "                                    XYdistribution='uniform')\n",
    "    TL.AddDriftSpace(L=0.5)\n",
    "    TL.AddThinLens(f=f, setXdivergence=False, setYdivergence=False)\n",
    "    TL.AddDriftSpace(L=0.3)\n",
    "    TL.AddBendingMagnetX(BendingRadius = 3.0, BendingAngle = np.radians(theta))\n",
    "    TL.AddDriftSpace(L=0.5)    \n",
    "    TL.Propagate(N=5)\n",
    "    TL.PlotBeamSpot(Rscale=1.0,MomentumColorScale=True)\n",
    "    TL.PlotPhaseSpace(xlim=2.0,xplim=3.0,ylim=2.0,yplim=3.0)\n",
    "    del TL\n",
    "    \n",
    "fn6(theta=45.0,f=10.00)"
   ]
  },
  {
   "cell_type": "markdown",
   "metadata": {},
   "source": [
    "# Exercício\n",
    "\n",
    "Tente declarar uma linha de transporte com os seguintes elementos:\n",
    "- Espaço livre de 20 cm\n",
    "- Lente quadrupolar de distancia focal f1\n",
    "- Espaço livre de 5 cm\n",
    "- Lente quadrupolar de distância focal f2\n",
    "- Espaço livre de 20 cm\n",
    "- Um magneto curvador de um ângulo de 30 graus e raio de curvatura de 1.0 m\n",
    "- Um espaço livre de 3 m\n",
    "- Um tripleto de quadrupolos distantes em 5 cm\n",
    "- Espaço livre de 20cm"
   ]
  },
  {
   "cell_type": "code",
   "execution_count": null,
   "metadata": {},
   "outputs": [],
   "source": []
  }
 ],
 "metadata": {
  "kernelspec": {
   "display_name": "Python 3 (ipykernel)",
   "language": "python",
   "name": "python3"
  },
  "language_info": {
   "codemirror_mode": {
    "name": "ipython",
    "version": 3
   },
   "file_extension": ".py",
   "mimetype": "text/x-python",
   "name": "python",
   "nbconvert_exporter": "python",
   "pygments_lexer": "ipython3",
   "version": "3.10.6"
  }
 },
 "nbformat": 4,
 "nbformat_minor": 2
}
